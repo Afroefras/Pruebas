{
 "cells": [
  {
   "cell_type": "code",
   "execution_count": 1,
   "metadata": {},
   "outputs": [],
   "source": [
    "import cv2\n",
    "from pathlib import Path\n",
    "from PIL import Image\n",
    "\n",
    "FILE_NAME = 'demo.mp4'\n",
    "BASE_DIR = '/Users/efrain.flores/Desktop/hub/ecobici_telegram_bot/media'\n",
    "\n",
    "class Mp4ToGif:\n",
    "    def __init__(self, base_dir: str, file_name: str) -> None:\n",
    "        if base_dir is not None: self.base_dir = Path(base_dir)\n",
    "        else: self.base_dir = Path().cwd()\n",
    "        self.file_name = file_name\n",
    "        self.just_name = ''.join(self.file_name.split('.')[:-1])\n",
    "        self.file_path = self.base_dir.joinpath(self.file_name)\n",
    "\n",
    "\n",
    "    def to_frames(self) -> None:\n",
    "        video_capture = cv2.VideoCapture(str(self.file_path))\n",
    "        still_reading, image = video_capture.read()\n",
    "        frame_count = 0\n",
    "        self.frames_dir = self.base_dir.joinpath(f'frames_{self.just_name}')\n",
    "        self.frames_dir.mkdir(exist_ok=True)\n",
    "        \n",
    "        while still_reading:\n",
    "            frame_path = str(self.frames_dir.joinpath(f\"{self.just_name}_frame{frame_count:05d}.jpg\"))\n",
    "            cv2.imwrite(frame_path, image)\n",
    "            still_reading, image = video_capture.read()\n",
    "            frame_count += 1\n",
    "\n",
    "\n",
    "    def make_gif(self) -> None:\n",
    "        frames = [Image.open(image) for image in self.frames_dir.glob('*.jpg')]\n",
    "        frame_one = frames[0]\n",
    "        frame_one.save(self.base_dir.joinpath(f'{self.just_name}.gif'), format=\"GIF\", append_images=frames, save_all=True, duration=50, loop=0)\n",
    "\n",
    "\n",
    "    def run(self)-> None:\n",
    "        self.to_frames()\n",
    "        self.make_gif()\n",
    "\n",
    "\n",
    "Mp4ToGif(BASE_DIR, FILE_NAME).run()"
   ]
  }
 ],
 "metadata": {
  "kernelspec": {
   "display_name": "Python 3.9.13 ('venv': venv)",
   "language": "python",
   "name": "python3"
  },
  "language_info": {
   "codemirror_mode": {
    "name": "ipython",
    "version": 3
   },
   "file_extension": ".py",
   "mimetype": "text/x-python",
   "name": "python",
   "nbconvert_exporter": "python",
   "pygments_lexer": "ipython3",
   "version": "3.9.13"
  },
  "orig_nbformat": 4,
  "vscode": {
   "interpreter": {
    "hash": "7115035df2ff0c7e4fcaf42295c9545e991133b7698ec02afe41cbdbfc589532"
   }
  }
 },
 "nbformat": 4,
 "nbformat_minor": 2
}
